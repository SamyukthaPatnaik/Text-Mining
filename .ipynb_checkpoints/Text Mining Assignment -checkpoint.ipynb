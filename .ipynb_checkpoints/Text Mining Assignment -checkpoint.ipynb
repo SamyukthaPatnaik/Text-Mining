{
 "cells": [
  {
   "cell_type": "code",
   "execution_count": null,
   "id": "09018747",
   "metadata": {},
   "outputs": [],
   "source": [
    "import numpy as np\n",
    "import pandas as pd\n",
    "import matplotlib.pyplot as plt\n",
    "import string\n",
    "import spacy\n",
    "\n",
    "from matplotlib.pyplot import imread\n",
    "from wordcloud import WordCloud, STOPWORDS"
   ]
  },
  {
   "cell_type": "code",
   "execution_count": null,
   "id": "d2251910",
   "metadata": {},
   "outputs": [],
   "source": [
    "import warnings\n",
    "warnings.simplefilter(action='ignore', category=FutureWarning)\n",
    "\n",
    "elon=pd.read_csv(\"C:\\\\Users\\\\ASUS\\\\Downloads\\\\DATA SCIENCE\\\\ASSIGNMENTS\\\\Text Mining\\\\Elon_musk.csv\", sep=\",\", encoding='cp1252', \n",
    "                 error_bad_lines=False,warn_bad_lines=False)\n",
    "elon.head()"
   ]
  },
  {
   "cell_type": "code",
   "execution_count": null,
   "id": "aee89ea9",
   "metadata": {},
   "outputs": [],
   "source": []
  }
 ],
 "metadata": {
  "kernelspec": {
   "display_name": "Python 3",
   "language": "python",
   "name": "python3"
  },
  "language_info": {
   "codemirror_mode": {
    "name": "ipython",
    "version": 3
   },
   "file_extension": ".py",
   "mimetype": "text/x-python",
   "name": "python",
   "nbconvert_exporter": "python",
   "pygments_lexer": "ipython3",
   "version": "3.8.8"
  }
 },
 "nbformat": 4,
 "nbformat_minor": 5
}
